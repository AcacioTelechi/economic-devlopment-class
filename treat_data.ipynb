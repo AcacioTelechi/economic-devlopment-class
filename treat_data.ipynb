{
 "cells": [
  {
   "cell_type": "code",
   "execution_count": 33,
   "metadata": {},
   "outputs": [],
   "source": [
    "import os \n",
    "import re\n",
    "import pandas as pd\n",
    "\n",
    "import matplotlib.pyplot as plt"
   ]
  },
  {
   "cell_type": "markdown",
   "metadata": {},
   "source": [
    "# Get data"
   ]
  },
  {
   "cell_type": "code",
   "execution_count": 2,
   "metadata": {},
   "outputs": [],
   "source": [
    "files = os.listdir('./data')"
   ]
  },
  {
   "cell_type": "code",
   "execution_count": 140,
   "metadata": {},
   "outputs": [],
   "source": [
    "df_raw = pd.DataFrame()\n",
    "\n",
    "for file in files:\n",
    "    new_df = pd.read_excel('./data/' + file)\n",
    "    df_raw = pd.concat([df_raw, new_df])"
   ]
  },
  {
   "cell_type": "markdown",
   "metadata": {},
   "source": [
    "# Treat data"
   ]
  },
  {
   "cell_type": "code",
   "execution_count": 240,
   "metadata": {},
   "outputs": [],
   "source": [
    "df = df_raw.dropna(subset=[\"Country Code\"])\n",
    "\n",
    "years_columns = [c for c in df.columns if re.search(r\"\\d+\", c)]\n",
    "columns = [\"Country Code\", \"Series Code\", *years_columns]\n",
    "\n",
    "df = df.loc[:, columns].replace(\"..\", 'NaN')\n",
    "\n",
    "# treat years\n",
    "years = [int(y.split()[0]) for y in years_columns]\n",
    "years.sort()\n",
    "\n",
    "rename_dict = {yn: y for yn, y in zip(years_columns, years)}\n",
    "df = df.rename(rename_dict, axis=1)\n",
    "\n",
    "df = df.dropna(subset=years, how=\"all\")\n",
    "\n",
    "df = df.drop_duplicates(['Country Code', 'Series Code'], keep='last')\n",
    "\n",
    "# df = df.reindex(sorted(df.columns), axis=1).set_index([\"Country Code\", \"Series Code\"])"
   ]
  },
  {
   "cell_type": "code",
   "execution_count": 241,
   "metadata": {},
   "outputs": [],
   "source": [
    "# select vars\n",
    "vars = [\n",
    "    \"BAR.NOED.15UP.ZS\",  # Barro-Lee: Percentage of population age 15+ with no education\n",
    "    \"BAR.NOED.75UP.ZS\",  # Barro-Lee: Percentage of population age 75+ with no education\n",
    "    \"NY.ADJ.ICTR.GN.ZS\",  # Adjusted savings: gross savings (% of GNI)\n",
    "    \"NY.GDP.MKTP.KD.ZG\",  # GDP growth (annual %)\n",
    "    \"NY.GDP.PCAP.KD\",  # GDP per capita (constant 2005 US$)\n",
    "    \"NY.ADJ.NNTY.KD.ZG\",  # Adjusted net national income (annual % growth)\n",
    "    \"NY.ADJ.NNTY.PC.KD\",  # Adjusted net national income per capita (constant 2015 US$)\n",
    "    \"SE.TER.ENRR\",  # Gross enrolment ratio for tertiary education, both sexes (%)\n",
    "    \"NE.GDI.TOTL.ZS\",  # Gross capital formation (% of GDP\n",
    "]\n",
    "\n",
    "df = df[df[\"Series Code\"].isin(vars)].set_index(['Country Code', 'Series Code']).astype('float')\n",
    "\n",
    "df = df.iloc[:, :63]"
   ]
  },
  {
   "cell_type": "markdown",
   "metadata": {},
   "source": [
    "# Interpolation"
   ]
  },
  {
   "cell_type": "code",
   "execution_count": 243,
   "metadata": {},
   "outputs": [],
   "source": [
    "df_interpolated = df.infer_objects(copy=False).interpolate(axis=1,limit_direction='both')"
   ]
  },
  {
   "cell_type": "code",
   "execution_count": null,
   "metadata": {},
   "outputs": [],
   "source": [
    "var = 'BAR.NOED.15UP.ZS'\n",
    "\n",
    "for var in vars:\n",
    "\n",
    "    print('\\n\\nVAR:', var)\n",
    "    df_plot = df.filter(regex=var,axis=0)\n",
    "\n",
    "    df_plot.T.plot()\n",
    "\n",
    "    df_interpolated.filter(regex=var,axis=0).T.plot()\n",
    "\n",
    "    plt.show()"
   ]
  },
  {
   "cell_type": "markdown",
   "metadata": {},
   "source": [
    "# Melt both dataframes"
   ]
  },
  {
   "cell_type": "code",
   "execution_count": 245,
   "metadata": {},
   "outputs": [],
   "source": [
    "df_long = df.reset_index().melt(id_vars=['Country Code', 'Series Code'], value_vars=df.columns, var_name='Year')\n",
    "df_interpolated_long = df_interpolated.reset_index().melt(id_vars=['Country Code', 'Series Code'], value_vars=df_interpolated.columns, var_name='Year')"
   ]
  }
 ],
 "metadata": {
  "kernelspec": {
   "display_name": "Python 3",
   "language": "python",
   "name": "python3"
  },
  "language_info": {
   "codemirror_mode": {
    "name": "ipython",
    "version": 3
   },
   "file_extension": ".py",
   "mimetype": "text/x-python",
   "name": "python",
   "nbconvert_exporter": "python",
   "pygments_lexer": "ipython3",
   "version": "3.12.2"
  }
 },
 "nbformat": 4,
 "nbformat_minor": 2
}
